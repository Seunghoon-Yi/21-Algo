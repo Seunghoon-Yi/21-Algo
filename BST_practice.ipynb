{
 "cells": [
  {
   "cell_type": "code",
   "execution_count": 1,
   "metadata": {},
   "outputs": [],
   "source": [
    "import numpy as np\n",
    "import os\n",
    "import random\n",
    "import time"
   ]
  },
  {
   "cell_type": "code",
   "execution_count": 113,
   "metadata": {},
   "outputs": [],
   "source": [
    "# Binary tree nodes : have both right and left root node.\n",
    "# Hence the \"next\" node of the root node will be either of L/R leaf node.\n",
    "class TreeNode():\n",
    "    def __init__(self, x:float):\n",
    "        self.val = x\n",
    "        self.left = None\n",
    "        self.right = None\n",
    "        \n",
    "        \n",
    "        \n",
    "class BST():\n",
    "    def __init__(self, root:TreeNode): # The first treenode\n",
    "        self.root = root                \n",
    "        \n",
    "    # 모든 node가 다 똑같은 구조이니 recursion을 쓰면 좋겠다\n",
    "    def __searchHelp(self, currnode : TreeNode, x)->TreeNode: # __ means a private function\n",
    "        if not currnode :                            # if None, True\n",
    "            return None                             # 만약 내려가다 x가 없으면 얘가 나오겠지..\n",
    "        if x == currnode.val:\n",
    "            return currnode\n",
    "        elif x<currnode.val:\n",
    "            return self.__searchHelp(currnode.left, x)\n",
    "        else:\n",
    "            return self.__searchHelp(currnode.right, x)\n",
    "       # else:\n",
    "       #     print(\"Value not find\")\n",
    "    def search(self, x : float):\n",
    "        return self.__searchHelp(self.root, x)      # 이러면 x가 있는 node를 반환하기를 원함.\n",
    "    \n",
    "    def __insertHelp(self, currnode:TreeNode, x:float):\n",
    "        if not currnode:\n",
    "            return TreeNode(x)                      # Search하다 없으면 treenode 추가\n",
    "        if x<currnode.val:\n",
    "            currnode.left = self.__insertHelp(currnode.left, x)\n",
    "        else :\n",
    "            currnode.right = self.__insertHelp(currnode.right, x)\n",
    "        #else:\n",
    "        #    return currnode -> 아래에 넣어도 됨..   # 존재하면 현재 node 반환.\n",
    "        return currnode                             # Recursive loop 빠져나오게!! \n",
    "        \n",
    "    def insert(self, x : float):\n",
    "        self.root = self.__insertHelp(self.root, x)  # Root부터 x 값을 가진 node 탐색.\n",
    "    \n",
    "    \n",
    "    def __findMax(self, currnode)->int:                          # 현재 node 기준 가장 큰 값 반환\n",
    "        if currnode.right == None:\n",
    "            return currnode.val\n",
    "        else:\n",
    "            return self.__findMax(currnode.right)\n",
    "        \n",
    "    # A recursive function to find position of x and delete\n",
    "    def __deleteHelp(self, currnode, x:float)->TreeNode:\n",
    "        # 1. Base : not in tree\n",
    "        if not currnode:\n",
    "            return currnode # None\n",
    "        # 2. When we find a node:\n",
    "        if x == currnode.val:\n",
    "            # 2-1. a single child node.\n",
    "            if currnode.left == None:\n",
    "                return currnode.right\n",
    "            elif currnode.right == None:\n",
    "                return currnode.left\n",
    "            # 2-2. two child node\n",
    "            else:\n",
    "                # 왼쪽에서 가장 큰 leaf를 currnode로 교체\n",
    "                LmostR = self.__findMax(currnode.left) \n",
    "                #                  (10)       -> currnode\n",
    "                #                             -> currnode.right = self....(currnode.right, LmostR)\n",
    "                #             (9)       (12)  -> Case 2에 따라 None 반환. \n",
    "                currnode.left = self.__deleteHelp(currnode.left, LmostR) \n",
    "                currnode.val = LmostR\n",
    "                \n",
    "        elif x<currnode.val:\n",
    "            currnode.left = self.__deleteHelp(currnode.left, x)   # x가 현재보다 작으면 왼쪽 아래\n",
    "        else:\n",
    "            currnode.right = self.__deleteHelp(currnode.right, x) # 반대의 경우 오른쪽 아래 탐색\n",
    "        \n",
    "        return currnode\n",
    "            \n",
    "        \n",
    "    def delete(self, x : float):\n",
    "        self.root = self.__deleteHelp(self.root, x)"
   ]
  },
  {
   "cell_type": "markdown",
   "metadata": {},
   "source": [
    "                    5\n",
    "               4          7\n",
    "            1          6     10\n",
    "                                 15"
   ]
  },
  {
   "cell_type": "code",
   "execution_count": 132,
   "metadata": {},
   "outputs": [],
   "source": [
    "sampleTree = BST(TreeNode(5))"
   ]
  },
  {
   "cell_type": "code",
   "execution_count": 133,
   "metadata": {},
   "outputs": [
    {
     "data": {
      "text/plain": [
       "5"
      ]
     },
     "execution_count": 133,
     "metadata": {},
     "output_type": "execute_result"
    }
   ],
   "source": [
    "sampleTree.root.val"
   ]
  },
  {
   "cell_type": "code",
   "execution_count": 134,
   "metadata": {},
   "outputs": [
    {
     "name": "stdout",
     "output_type": "stream",
     "text": [
      "None\n"
     ]
    }
   ],
   "source": [
    "print(sampleTree.search(4))"
   ]
  },
  {
   "cell_type": "code",
   "execution_count": 135,
   "metadata": {},
   "outputs": [],
   "source": [
    "sampleTree.insert(7)\n",
    "sampleTree.insert(4)\n",
    "sampleTree.insert(1)\n",
    "sampleTree.insert(6)\n",
    "sampleTree.insert(10)\n",
    "sampleTree.insert(15)"
   ]
  },
  {
   "cell_type": "code",
   "execution_count": 136,
   "metadata": {},
   "outputs": [
    {
     "data": {
      "text/plain": [
       "5"
      ]
     },
     "execution_count": 136,
     "metadata": {},
     "output_type": "execute_result"
    }
   ],
   "source": [
    "sampleTree.root.val"
   ]
  },
  {
   "cell_type": "code",
   "execution_count": 137,
   "metadata": {},
   "outputs": [],
   "source": [
    "sampleTree.delete(10)"
   ]
  },
  {
   "cell_type": "code",
   "execution_count": 138,
   "metadata": {},
   "outputs": [
    {
     "name": "stdout",
     "output_type": "stream",
     "text": [
      "None\n"
     ]
    }
   ],
   "source": [
    "print(sampleTree.search(10))"
   ]
  },
  {
   "cell_type": "code",
   "execution_count": 139,
   "metadata": {},
   "outputs": [
    {
     "data": {
      "text/plain": [
       "15"
      ]
     },
     "execution_count": 139,
     "metadata": {},
     "output_type": "execute_result"
    }
   ],
   "source": [
    "sampleTree.root.right.right.val"
   ]
  }
 ],
 "metadata": {
  "kernelspec": {
   "display_name": "Python 3",
   "language": "python",
   "name": "python3"
  },
  "language_info": {
   "codemirror_mode": {
    "name": "ipython",
    "version": 3
   },
   "file_extension": ".py",
   "mimetype": "text/x-python",
   "name": "python",
   "nbconvert_exporter": "python",
   "pygments_lexer": "ipython3",
   "version": "3.8.5"
  }
 },
 "nbformat": 4,
 "nbformat_minor": 4
}

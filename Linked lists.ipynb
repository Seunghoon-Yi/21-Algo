{
 "cells": [
  {
   "cell_type": "code",
   "execution_count": 1,
   "metadata": {},
   "outputs": [],
   "source": [
    "import numpy as np\n",
    "import os\n",
    "import random\n",
    "import time"
   ]
  },
  {
   "cell_type": "code",
   "execution_count": 2,
   "metadata": {},
   "outputs": [],
   "source": [
    "class SingleNode():\n",
    "    def __init__(self, x):\n",
    "        self.val = x\n",
    "        self.next = None\n",
    "        \n",
    "a = SingleNode(5)\n",
    "b = SingleNode(10)\n",
    "a.next = b          # Here, two single nodes are connected."
   ]
  },
  {
   "cell_type": "code",
   "execution_count": 3,
   "metadata": {},
   "outputs": [
    {
     "data": {
      "text/plain": [
       "10"
      ]
     },
     "execution_count": 3,
     "metadata": {},
     "output_type": "execute_result"
    }
   ],
   "source": [
    "a.next.val          # Hence every node can be accessed through the first node."
   ]
  },
  {
   "cell_type": "code",
   "execution_count": 8,
   "metadata": {},
   "outputs": [],
   "source": [
    "# A sample singe linked list(SLL)\n",
    "# addfirst(맨 앞에 붙이는)랑 .next를 구현해 보자!\n",
    "class SLL():\n",
    "    def __init__(self) ->None:          # -> : annotation. output을 명시해 줌. \n",
    "        self.first = None\n",
    "        self.size = 0\n",
    "        \n",
    "    def addFirst(self, x : int) ->None: # x : type assertion\n",
    "        newFirst = SingleNode(x)       # Node 하나 생성해주고\n",
    "        newFirst.next = self.first     # 생성된 Node의 next = 첫 node로 지정. 없으면 None.\n",
    "        self.first = newFirst\n",
    "        self.size += 1\n",
    "        \n",
    "    def getFirst(self) ->int:\n",
    "        if self.first :                  # first node가 없으면 무시.\n",
    "            return self.first.val\n",
    "        return None\n",
    "    \n",
    "    # Now we want to add new methods to make our SLL more useful.\n",
    "    '''def getSize(self) ->int:\n",
    "        currnode = self.first             # first node\n",
    "        size = 0\n",
    "        while currnode !=None:\n",
    "            size+=1\n",
    "            currnode = currnode.next\n",
    "        return size'''\n",
    "    # However, this gives us an O(N) execution time.. \n",
    "    def getSize(self) ->int:\n",
    "        return self.size        # This gives us O(1) time!!\n",
    "    \n",
    "    # And we also want to append values in SLL.\n",
    "    def append(self, x : int) -> None:\n",
    "        self.size+=1\n",
    "        currnode = self.first\n",
    "        while currnode.next != None:      # Here, if currnode = None, error occurs.\n",
    "            currnode = currnode.next\n",
    "        currnode.next = SingleNode(x)\n",
    "        \n",
    "    # 위의 error를 해결하기 위해 dummy node인 \"Sentinel\"을 도입.\n",
    "    \n",
    "        \n",
    "# 1. Function 결정 -> 2. input/output 결정 -> 3. assertion -> 4. method들 구현. "
   ]
  },
  {
   "cell_type": "code",
   "execution_count": 29,
   "metadata": {},
   "outputs": [],
   "source": [
    "class usefulSLL():\n",
    "    def __init__(self) ->None:   \n",
    "        self.sentinel = SingleNode(0)     # A dummy node!\n",
    "        self.size = 0\n",
    "        \n",
    "    def addFirst(self, x : int) ->None: \n",
    "        newFirst = SingleNode(x)       \n",
    "        newFirst.next = self.sentinel.next    \n",
    "        self.sentinel.next = newFirst\n",
    "        self.size += 1\n",
    "        \n",
    "    def getFirst(self) ->int:\n",
    "        if self.sentinel.next :                  \n",
    "            return self.sentinel.next.val  # Dummy node의 next node의 val\n",
    "        return None\n",
    "    \n",
    "    def getLast(self) : \n",
    "        currnode = self.sentinel\n",
    "        while currnode.next!=None:\n",
    "            currnode = currnode.next\n",
    "        return currnode.val\n",
    "   \n",
    "    def getSize(self) ->int:\n",
    "        return self.size        \n",
    "    \n",
    "    def append(self, x : int) -> None:\n",
    "        self.size+=1\n",
    "        currnode = self.sentinel            # Dummy(!=None)에서 시작.\n",
    "        while currnode.next != None:      \n",
    "            currnode = currnode.next\n",
    "        currnode.next = SingleNode(x)"
   ]
  },
  {
   "cell_type": "code",
   "execution_count": 30,
   "metadata": {},
   "outputs": [],
   "source": [
    "Single_LL = usefulSLL()"
   ]
  },
  {
   "cell_type": "code",
   "execution_count": 33,
   "metadata": {},
   "outputs": [],
   "source": [
    "Single_LL.append(100)"
   ]
  },
  {
   "cell_type": "code",
   "execution_count": 36,
   "metadata": {},
   "outputs": [
    {
     "data": {
      "text/plain": [
       "3"
      ]
     },
     "execution_count": 36,
     "metadata": {},
     "output_type": "execute_result"
    }
   ],
   "source": [
    "Single_LL.getSize()"
   ]
  },
  {
   "cell_type": "code",
   "execution_count": 74,
   "metadata": {},
   "outputs": [],
   "source": [
    "# Make a stack from linked list  // My original solution\n",
    "\n",
    "class MyStack():\n",
    "    def __init__(self):\n",
    "        self.sentinel = SingleNode(0)    # A dummy node\n",
    "        self.size = 0\n",
    "        \n",
    "    def push(self, x:float)->SingleNode:\n",
    "        self.size+=1\n",
    "        currnode = self.sentinel\n",
    "        while currnode.next !=None:\n",
    "            currnode = currnode.next\n",
    "        currnode.next = SingleNode(x)\n",
    "        \n",
    "    def pop(self):\n",
    "        if self.sentinel.next == None:   # If length = 0, return none\n",
    "            return None\n",
    "        else:\n",
    "            self.size-=1\n",
    "            currnode = self.sentinel\n",
    "            while currnode.next.next != None:\n",
    "                currnode = currnode.next\n",
    "            value = currnode.next.val\n",
    "            currnode.next = None\n",
    "            return value\n",
    "    \n",
    "    def top(self):                       # Pop에서 delete하는 부분만 없으면 됨. \n",
    "        if self.sentinel.next == None:   \n",
    "            return None\n",
    "        else:\n",
    "            self.size-=1\n",
    "            currnode = self.sentinel\n",
    "            while currnode.next.next != None:\n",
    "                currnode = currnode.next\n",
    "            value = currnode.next.val\n",
    "            return value\n",
    "    \n",
    "    def getSize(self):\n",
    "        return self.size\n",
    "    \n",
    "    def isEmpty(self):\n",
    "        if self.size== 0:\n",
    "            return \"Empty\"\n",
    "        else:\n",
    "            return \"Occupied\"\n",
    "        "
   ]
  },
  {
   "cell_type": "code",
   "execution_count": 75,
   "metadata": {},
   "outputs": [],
   "source": [
    "test_stack = MyStack()"
   ]
  },
  {
   "cell_type": "code",
   "execution_count": 76,
   "metadata": {},
   "outputs": [],
   "source": [
    "test_stack.push(10)\n",
    "test_stack.push(9)\n",
    "test_stack.push(8)\n",
    "test_stack.push(7)\n",
    "test_stack.push(6)\n",
    "test_stack.push(5)"
   ]
  },
  {
   "cell_type": "code",
   "execution_count": 77,
   "metadata": {},
   "outputs": [
    {
     "data": {
      "text/plain": [
       "6"
      ]
     },
     "execution_count": 77,
     "metadata": {},
     "output_type": "execute_result"
    }
   ],
   "source": [
    "test_stack.getSize()"
   ]
  },
  {
   "cell_type": "code",
   "execution_count": 78,
   "metadata": {},
   "outputs": [
    {
     "data": {
      "text/plain": [
       "5"
      ]
     },
     "execution_count": 78,
     "metadata": {},
     "output_type": "execute_result"
    }
   ],
   "source": [
    "test_stack.top()"
   ]
  },
  {
   "cell_type": "code",
   "execution_count": 79,
   "metadata": {},
   "outputs": [
    {
     "data": {
      "text/plain": [
       "5"
      ]
     },
     "execution_count": 79,
     "metadata": {},
     "output_type": "execute_result"
    }
   ],
   "source": [
    "test_stack.pop()"
   ]
  },
  {
   "cell_type": "code",
   "execution_count": 73,
   "metadata": {},
   "outputs": [
    {
     "data": {
      "text/plain": [
       "'Empty'"
      ]
     },
     "execution_count": 73,
     "metadata": {},
     "output_type": "execute_result"
    }
   ],
   "source": [
    "test_stack.isEmpty()"
   ]
  },
  {
   "cell_type": "code",
   "execution_count": 80,
   "metadata": {},
   "outputs": [
    {
     "data": {
      "text/plain": [
       "0"
      ]
     },
     "execution_count": 80,
     "metadata": {},
     "output_type": "execute_result"
    }
   ],
   "source": [
    "test_stack.sentinel.val"
   ]
  },
  {
   "cell_type": "code",
   "execution_count": 104,
   "metadata": {},
   "outputs": [],
   "source": [
    "# Solution from TA\n",
    "class TAStack():\n",
    "    def __init__(self):\n",
    "        self.sentinel = SingleNode(0)    # A dummy node\n",
    "        self.size = 0\n",
    "        \n",
    "    def push(self, x:float)->None:\n",
    "        newnode = SingleNode(x)\n",
    "        newnode.next = self.sentinel.next\n",
    "        self.sentinel.next = newnode     # 이건 first node부터 FIFO. 위에 구현한 건 마지막 node부터. \n",
    "        self.size+=1\n",
    "        \n",
    "    def pop(self):\n",
    "        if not self.isEmpty():\n",
    "            removal = self.sentinel.next\n",
    "            value = removal.val\n",
    "            self.sentinel.next = self.sentinel.next.next\n",
    "            removal.next = None         # Sentinel 바로 앞 node 삭제\n",
    "            self.size-=1\n",
    "            return value\n",
    "        \n",
    "    def top(self):                       # Pop에서 delete하는 부분만 없으면 됨. \n",
    "        if not self.isEmpty():\n",
    "            return self.sentinel.next.val\n",
    "        else:\n",
    "            return None\n",
    "    \n",
    "    def getSize(self):\n",
    "        return self.size\n",
    "    \n",
    "    def isEmpty(self):\n",
    "        if self.size== 0:\n",
    "            return True\n",
    "        else:\n",
    "            return False"
   ]
  },
  {
   "cell_type": "code",
   "execution_count": 105,
   "metadata": {},
   "outputs": [],
   "source": [
    "tastack = TAStack()"
   ]
  },
  {
   "cell_type": "code",
   "execution_count": 121,
   "metadata": {},
   "outputs": [],
   "source": [
    "tastack.push(10)\n",
    "tastack.push(9)\n",
    "tastack.push(8)\n",
    "tastack.push(7)\n",
    "tastack.push(6)\n",
    "tastack.push(5)"
   ]
  },
  {
   "cell_type": "code",
   "execution_count": 125,
   "metadata": {},
   "outputs": [
    {
     "data": {
      "text/plain": [
       "6"
      ]
     },
     "execution_count": 125,
     "metadata": {},
     "output_type": "execute_result"
    }
   ],
   "source": [
    "tastack.top()"
   ]
  },
  {
   "cell_type": "code",
   "execution_count": 124,
   "metadata": {},
   "outputs": [
    {
     "data": {
      "text/plain": [
       "5"
      ]
     },
     "execution_count": 124,
     "metadata": {},
     "output_type": "execute_result"
    }
   ],
   "source": [
    "tastack.pop()"
   ]
  },
  {
   "cell_type": "code",
   "execution_count": 123,
   "metadata": {},
   "outputs": [
    {
     "data": {
      "text/plain": [
       "12"
      ]
     },
     "execution_count": 123,
     "metadata": {},
     "output_type": "execute_result"
    }
   ],
   "source": [
    "tastack.getSize()"
   ]
  },
  {
   "cell_type": "code",
   "execution_count": 122,
   "metadata": {},
   "outputs": [
    {
     "data": {
      "text/plain": [
       "False"
      ]
     },
     "execution_count": 122,
     "metadata": {},
     "output_type": "execute_result"
    }
   ],
   "source": [
    "tastack.isEmpty()"
   ]
  }
 ],
 "metadata": {
  "kernelspec": {
   "display_name": "Python 3",
   "language": "python",
   "name": "python3"
  },
  "language_info": {
   "codemirror_mode": {
    "name": "ipython",
    "version": 3
   },
   "file_extension": ".py",
   "mimetype": "text/x-python",
   "name": "python",
   "nbconvert_exporter": "python",
   "pygments_lexer": "ipython3",
   "version": "3.8.5"
  }
 },
 "nbformat": 4,
 "nbformat_minor": 4
}
